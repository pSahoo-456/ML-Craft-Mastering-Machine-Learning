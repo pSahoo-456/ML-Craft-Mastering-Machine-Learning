{
 "cells": [
  {
   "cell_type": "markdown",
   "id": "64c87f0c",
   "metadata": {},
   "source": [
    "# Valid sudoko"
   ]
  },
  {
   "cell_type": "code",
   "execution_count": 1,
   "id": "b3ffad63",
   "metadata": {},
   "outputs": [],
   "source": [
    "import numpy as np"
   ]
  },
  {
   "cell_type": "code",
   "execution_count": 8,
   "id": "a42cb90f",
   "metadata": {},
   "outputs": [],
   "source": [
    "s = np.array([\n",
    "    [5, 3, 4, 6, 7, 8, 9, 1, 2],\n",
    "    [6, 7, 2, 1, 9, 5, 3, 4, 8],\n",
    "    [1, 9, 8, 3, 4, 2, 5, 6, 7],\n",
    "    \n",
    "    [8, 5, 9, 7, 6, 1, 4, 2, 3],\n",
    "    [4, 2, 6, 8, 5, 3, 7, 9, 1],\n",
    "    [7, 1, 3, 9, 2, 4, 8, 5, 6],\n",
    "    \n",
    "    [9, 6, 1, 5, 3, 7, 2, 8, 4],\n",
    "    [2, 8, 7, 4, 1, 9, 6, 3, 5],\n",
    "    [3, 4, 5, 2, 8, 6, 1, 7, 9]\n",
    "])"
   ]
  },
  {
   "cell_type": "code",
   "execution_count": 10,
   "id": "c019d726",
   "metadata": {},
   "outputs": [
    {
     "name": "stdout",
     "output_type": "stream",
     "text": [
      "Sudoku is valid for column.\n"
     ]
    }
   ],
   "source": [
    "b=s.sum(axis=0)  # Sum along the rows\n",
    "for i in b:\n",
    "    if i!= 45:\n",
    "        print(\"Sudoku is not valid\")\n",
    "        break\n",
    "else:\n",
    "    print(\"Sudoku is valid for column.\")"
   ]
  },
  {
   "cell_type": "code",
   "execution_count": 13,
   "id": "80396cf8",
   "metadata": {},
   "outputs": [
    {
     "name": "stdout",
     "output_type": "stream",
     "text": [
      "Valid Sudoku for row.\n"
     ]
    }
   ],
   "source": [
    "c=s.sum(axis=1)\n",
    "for i in c:\n",
    "    if i!=45:\n",
    "        print(\"Not valid Sudoku \")\n",
    "        break\n",
    "else:\n",
    "    print(\"Valid Sudoku for row.\")"
   ]
  },
  {
   "cell_type": "code",
   "execution_count": 51,
   "id": "3405542e",
   "metadata": {},
   "outputs": [],
   "source": [
    "import numpy as np\n",
    "\n",
    "# Columns: [Age, Math Marks, Science Marks]\n",
    "data = np.array([\n",
    "    [18, 85, 78],   # Student 1\n",
    "    [19, 92, 88],   # Student 2\n",
    "    [17, 76, 95],   # Student 3\n",
    "    [18, 65, 70],   # Student 4\n",
    "    [20, 90, 85]    # Student 5\n",
    "])\n"
   ]
  },
  {
   "cell_type": "code",
   "execution_count": 52,
   "id": "6b28021f",
   "metadata": {},
   "outputs": [
    {
     "data": {
      "text/plain": [
       "(5, 3)"
      ]
     },
     "execution_count": 52,
     "metadata": {},
     "output_type": "execute_result"
    }
   ],
   "source": [
    "#Get the shape of the matrix\n",
    "data.shape"
   ]
  },
  {
   "cell_type": "code",
   "execution_count": 53,
   "id": "160834fa",
   "metadata": {},
   "outputs": [
    {
     "data": {
      "text/plain": [
       "np.float64(18.4)"
      ]
     },
     "execution_count": 53,
     "metadata": {},
     "output_type": "execute_result"
    }
   ],
   "source": [
    "#Find the average age of students.\n",
    "avg=data[0:,0].mean()\n",
    "avg"
   ]
  },
  {
   "cell_type": "code",
   "execution_count": 54,
   "id": "7852f301",
   "metadata": {},
   "outputs": [
    {
     "data": {
      "text/plain": [
       "array([85, 92, 76, 65, 90])"
      ]
     },
     "execution_count": 54,
     "metadata": {},
     "output_type": "execute_result"
    }
   ],
   "source": [
    "#Extraxt math mark of all students\n",
    "math_mark=data[0:,1]\n",
    "math_mark"
   ]
  },
  {
   "cell_type": "code",
   "execution_count": 55,
   "id": "684ad9a2",
   "metadata": {},
   "outputs": [
    {
     "name": "stdout",
     "output_type": "stream",
     "text": [
      "95\n"
     ]
    },
    {
     "data": {
      "text/plain": [
       "np.int64(2)"
      ]
     },
     "execution_count": 55,
     "metadata": {},
     "output_type": "execute_result"
    }
   ],
   "source": [
    "#Find the highest Science mark.\n",
    "higest_sci_mark=data[0:,2].max()\n",
    "print(higest_sci_mark)\n",
    "#find the index of the student with highest Science mark.\n",
    "index_of_highest_sci_mark=data[0:,2].argmax()\n",
    "index_of_highest_sci_mark"
   ]
  },
  {
   "cell_type": "code",
   "execution_count": 56,
   "id": "092b6578",
   "metadata": {},
   "outputs": [
    {
     "data": {
      "text/plain": [
       "array([[19, 92, 88]])"
      ]
     },
     "execution_count": 56,
     "metadata": {},
     "output_type": "execute_result"
    }
   ],
   "source": [
    "#Get details of the student who scored more than 90 in Math.\n",
    "\n",
    "more_than_90_in_math=data[data[0:,1]>90]\n",
    "more_than_90_in_math"
   ]
  },
  {
   "cell_type": "code",
   "execution_count": 57,
   "id": "f64ea073",
   "metadata": {},
   "outputs": [
    {
     "data": {
      "text/plain": [
       "array([[18, 90, 78],\n",
       "       [19, 97, 88],\n",
       "       [17, 81, 95],\n",
       "       [18, 70, 70],\n",
       "       [20, 95, 85]])"
      ]
     },
     "execution_count": 57,
     "metadata": {},
     "output_type": "execute_result"
    }
   ],
   "source": [
    "#Increase Math marks of all students by 5.\n",
    "data[0:,1] +=5\n",
    "data"
   ]
  },
  {
   "cell_type": "code",
   "execution_count": 58,
   "id": "0159cb57",
   "metadata": {},
   "outputs": [
    {
     "data": {
      "text/plain": [
       "3"
      ]
     },
     "execution_count": 58,
     "metadata": {},
     "output_type": "execute_result"
    }
   ],
   "source": [
    "#Find how many students are younger than 19.\n",
    "\n",
    "len(data[data[0:,0]<19])"
   ]
  },
  {
   "cell_type": "code",
   "execution_count": 59,
   "id": "8a381c88",
   "metadata": {},
   "outputs": [
    {
     "data": {
      "text/plain": [
       "array([18.4, 86.6, 83.2])"
      ]
     },
     "execution_count": 59,
     "metadata": {},
     "output_type": "execute_result"
    }
   ],
   "source": [
    "#Calculate the average marks in each subject (column-wise mean).\n",
    "avg_marks = data.mean(axis=0)\n",
    "avg_marks"
   ]
  },
  {
   "cell_type": "code",
   "execution_count": 60,
   "id": "0c654b99",
   "metadata": {},
   "outputs": [
    {
     "data": {
      "text/plain": [
       "array([[18, 90, 78],\n",
       "       [19, 97, 88],\n",
       "       [17, 81, 95],\n",
       "       [18, 70,  0],\n",
       "       [20, 95, 85]])"
      ]
     },
     "execution_count": 60,
     "metadata": {},
     "output_type": "execute_result"
    }
   ],
   "source": [
    "#Replace all Science marks < 75 with 0.\n",
    "data[0:,2][data[0:,2]<75] = 0\n",
    "data"
   ]
  },
  {
   "cell_type": "code",
   "execution_count": null,
   "id": "4da63373",
   "metadata": {},
   "outputs": [],
   "source": []
  }
 ],
 "metadata": {
  "kernelspec": {
   "display_name": "venv",
   "language": "python",
   "name": "python3"
  },
  "language_info": {
   "codemirror_mode": {
    "name": "ipython",
    "version": 3
   },
   "file_extension": ".py",
   "mimetype": "text/x-python",
   "name": "python",
   "nbconvert_exporter": "python",
   "pygments_lexer": "ipython3",
   "version": "3.10.0"
  }
 },
 "nbformat": 4,
 "nbformat_minor": 5
}
