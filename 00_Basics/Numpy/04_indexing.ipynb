{
 "cells": [
  {
   "cell_type": "markdown",
   "id": "e6b0aac9",
   "metadata": {},
   "source": [
    "# Numpy Indexing and vectors"
   ]
  },
  {
   "cell_type": "code",
   "execution_count": 1,
   "id": "f15709ad",
   "metadata": {},
   "outputs": [],
   "source": [
    "import numpy as np"
   ]
  },
  {
   "cell_type": "code",
   "execution_count": 2,
   "id": "cedc54ba",
   "metadata": {},
   "outputs": [
    {
     "data": {
      "text/plain": [
       "array([1, 2, 3, 4, 5, 6, 7, 8, 9])"
      ]
     },
     "execution_count": 2,
     "metadata": {},
     "output_type": "execute_result"
    }
   ],
   "source": [
    "arr=np.arange(1, 10)\n",
    "arr"
   ]
  },
  {
   "cell_type": "code",
   "execution_count": null,
   "id": "292b20f7",
   "metadata": {},
   "outputs": [
    {
     "data": {
      "text/plain": [
       "array([5, 7, 9])"
      ]
     },
     "execution_count": 5,
     "metadata": {},
     "output_type": "execute_result"
    }
   ],
   "source": [
    "arr[4:9]# Slicing the array from index 4 to 8, inclusive of 4 and exclusive of 9\n"
   ]
  },
  {
   "cell_type": "code",
   "execution_count": 8,
   "id": "c8e59b56",
   "metadata": {},
   "outputs": [
    {
     "data": {
      "text/plain": [
       "array([[ 1,  2,  3,  4,  5,  6],\n",
       "       [ 7,  8,  9, 10, 11, 12],\n",
       "       [13, 14, 15, 16, 17, 18],\n",
       "       [19, 20, 21, 22, 23, 24],\n",
       "       [25, 26, 27, 28, 29, 30]])"
      ]
     },
     "execution_count": 8,
     "metadata": {},
     "output_type": "execute_result"
    }
   ],
   "source": [
    "arr=np.arange(1,31).reshape(5,6)  # Reshape the array to 5 rows and 6 columns\n",
    "arr"
   ]
  },
  {
   "cell_type": "code",
   "execution_count": null,
   "id": "79f98724",
   "metadata": {},
   "outputs": [
    {
     "name": "stdout",
     "output_type": "stream",
     "text": [
      "[1 2 3 4 5 6]\n",
      "1\n",
      "4\n"
     ]
    }
   ],
   "source": [
    "print(arr[0])# Accessing the first row of the array\n",
    "print(arr[0][0])  # Accessing the first element of the first row\n",
    "print(arr[0,3]) # Accessing the fourth element of the first row"
   ]
  },
  {
   "cell_type": "code",
   "execution_count": 12,
   "id": "84eb98fd",
   "metadata": {},
   "outputs": [
    {
     "name": "stdout",
     "output_type": "stream",
     "text": [
      "[[ 2  3  4]\n",
      " [ 8  9 10]\n",
      " [14 15 16]]\n"
     ]
    }
   ],
   "source": [
    "print(arr[0:3, 1:4])  # Slicing a 2D array from rows 0 to 2 and columns 1 to 3"
   ]
  },
  {
   "cell_type": "code",
   "execution_count": 19,
   "id": "01239b7e",
   "metadata": {},
   "outputs": [
    {
     "name": "stdout",
     "output_type": "stream",
     "text": [
      "[[13 14 15 16 17 18]\n",
      " [19 20 21 22 23 24]\n",
      " [25 26 27 28 29 30]] \n",
      "\n",
      "[[ 1  2  3  4  5  6]\n",
      " [ 7  8  9 10 11 12]]\n"
     ]
    }
   ],
   "source": [
    "print(arr[2:],'\\n')# Accessing all rows starting from the third row\n",
    "\n",
    "print(arr[:2])# Accessing all rows up to the second row"
   ]
  },
  {
   "cell_type": "code",
   "execution_count": 22,
   "id": "d2f9ccb3",
   "metadata": {},
   "outputs": [
    {
     "name": "stdout",
     "output_type": "stream",
     "text": [
      "[16 22 28] \n",
      "\n",
      "[[16 17 18]\n",
      " [22 23 24]\n",
      " [28 29 30]] \n",
      "\n",
      "[[14 15 16]\n",
      " [20 21 22]\n",
      " [26 27 28]]\n"
     ]
    }
   ],
   "source": [
    "print(arr[2:,3],\"\\n\")# Accessing all rows starting from the third row and the fourth column\n",
    "print(arr[2:,3:],\"\\n\")# Accessing all rows starting from the third row and all columns from the fourth onward\n",
    "print(arr[2:,1:4])# Accessing all rows starting from the third row and columns 1 to 3"
   ]
  },
  {
   "cell_type": "code",
   "execution_count": null,
   "id": "03180f21",
   "metadata": {},
   "outputs": [],
   "source": []
  },
  {
   "cell_type": "markdown",
   "id": "ce28b709",
   "metadata": {},
   "source": [
    "# Boolean Indexing"
   ]
  },
  {
   "cell_type": "code",
   "execution_count": 23,
   "id": "03be8822",
   "metadata": {},
   "outputs": [
    {
     "data": {
      "text/plain": [
       "array([11, 12, 13, 14, 15, 16, 17, 18, 19, 20])"
      ]
     },
     "execution_count": 23,
     "metadata": {},
     "output_type": "execute_result"
    }
   ],
   "source": [
    "arr=np.arange(11,21)\n",
    "arr"
   ]
  },
  {
   "cell_type": "code",
   "execution_count": 24,
   "id": "c0578e46",
   "metadata": {},
   "outputs": [
    {
     "name": "stdout",
     "output_type": "stream",
     "text": [
      "[False  True False  True False  True False  True False  True]\n"
     ]
    }
   ],
   "source": [
    "bool_index=arr%2==0  # Creating a boolean index for even numbers\n",
    "print(bool_index)"
   ]
  },
  {
   "cell_type": "code",
   "execution_count": 25,
   "id": "ee22cde5",
   "metadata": {},
   "outputs": [
    {
     "data": {
      "text/plain": [
       "array([12, 14, 16, 18, 20])"
      ]
     },
     "execution_count": 25,
     "metadata": {},
     "output_type": "execute_result"
    }
   ],
   "source": [
    "arr=arr[bool_index]  # Using the boolean index to filter the array\n",
    "arr"
   ]
  },
  {
   "cell_type": "code",
   "execution_count": null,
   "id": "7ba62c88",
   "metadata": {},
   "outputs": [],
   "source": []
  }
 ],
 "metadata": {
  "kernelspec": {
   "display_name": "venv",
   "language": "python",
   "name": "python3"
  },
  "language_info": {
   "codemirror_mode": {
    "name": "ipython",
    "version": 3
   },
   "file_extension": ".py",
   "mimetype": "text/x-python",
   "name": "python",
   "nbconvert_exporter": "python",
   "pygments_lexer": "ipython3",
   "version": "3.10.0"
  }
 },
 "nbformat": 4,
 "nbformat_minor": 5
}
