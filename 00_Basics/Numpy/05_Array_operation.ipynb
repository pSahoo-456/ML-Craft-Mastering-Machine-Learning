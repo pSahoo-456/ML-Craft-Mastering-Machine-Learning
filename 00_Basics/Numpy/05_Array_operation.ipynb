{
 "cells": [
  {
   "cell_type": "markdown",
   "id": "a4032bd4",
   "metadata": {},
   "source": [
    "# Arithmetic Operation\n"
   ]
  },
  {
   "cell_type": "code",
   "execution_count": 1,
   "id": "4d0c43ca",
   "metadata": {},
   "outputs": [],
   "source": [
    "import numpy as np"
   ]
  },
  {
   "cell_type": "code",
   "execution_count": 4,
   "id": "bfbe0ad9",
   "metadata": {},
   "outputs": [
    {
     "name": "stdout",
     "output_type": "stream",
     "text": [
      "[ 2  4  7  9 11 85]\n",
      "[ 0  0  1  1  1 73]\n",
      "[  1   4  12  20  30 474]\n",
      "[ 1.          1.          1.33333333  1.25        1.2        13.16666667]\n",
      "[ 1  1  1  1  1 13]\n",
      "[0 0 1 1 1 1]\n",
      "[           1            4           64          625         7776\n",
      " 243087455521]\n"
     ]
    }
   ],
   "source": [
    "a1=np.array([1,2,4,5,6,79])\n",
    "a2=np.array([1,2,3,4,5,6])\n",
    "#Here size of both arrays is same, so we can perform element-wise operations\n",
    "print(a1+a2)  # Element-wise addition\n",
    "print(a1-a2)  # Element-wise subtraction\n",
    "print(a1*a2)  # Element-wise multiplication\n",
    "print(a1/a2)  # Element-wise division\n",
    "print(a1//a2)  # Element-wise floor division\n",
    "print(a1%a2)  # Element-wise modulus\n",
    "print(a1**a2)  # Element-wise exponentiation\n"
   ]
  },
  {
   "cell_type": "code",
   "execution_count": null,
   "id": "57120624",
   "metadata": {},
   "outputs": [],
   "source": []
  },
  {
   "cell_type": "markdown",
   "id": "c7a7af79",
   "metadata": {},
   "source": [
    "# Broadcasting"
   ]
  },
  {
   "cell_type": "code",
   "execution_count": null,
   "id": "8af6c962",
   "metadata": {},
   "outputs": [
    {
     "name": "stdout",
     "output_type": "stream",
     "text": [
      "[22 33 55 77 99]\n"
     ]
    }
   ],
   "source": [
    "l=[12,23,45,67,89]\n",
    "l+10  # This will not work as lists do not support broadcasting\n",
    "# To perform the same operation with numpy, we need to convert the list to a numpy array\n",
    "arr=np.array(l)\n",
    "arr+10  # This will work as numpy supports broadcasting\n",
    "print(arr+10)\n"
   ]
  },
  {
   "cell_type": "code",
   "execution_count": null,
   "id": "f9115887",
   "metadata": {},
   "outputs": [
    {
     "name": "stdout",
     "output_type": "stream",
     "text": [
      "[[ 1  2  3  4  5]\n",
      " [ 6  7  8  9 10]\n",
      " [11 12 13 14 15]] \n",
      "\n"
     ]
    },
    {
     "data": {
      "text/plain": [
       "array([[11, 12, 13, 14, 15],\n",
       "       [16, 17, 18, 19, 20],\n",
       "       [21, 22, 23, 24, 25]])"
      ]
     },
     "execution_count": 9,
     "metadata": {},
     "output_type": "execute_result"
    }
   ],
   "source": [
    "arr=np.arange(1,16).reshape(3,5)\n",
    "print(arr,\"\\n\")\n",
    "\n",
    "arr+10\n"
   ]
  },
  {
   "cell_type": "markdown",
   "id": "6dc168d1",
   "metadata": {},
   "source": [
    "# Deep copy and Shallow copy\n"
   ]
  },
  {
   "cell_type": "code",
   "execution_count": 10,
   "id": "f3ce37c4",
   "metadata": {},
   "outputs": [
    {
     "data": {
      "text/plain": [
       "array([ 1,  2,  3,  4,  5,  6,  7,  8,  9, 10, 11, 12, 13, 14, 15, 16, 17,\n",
       "       18, 19, 20])"
      ]
     },
     "execution_count": 10,
     "metadata": {},
     "output_type": "execute_result"
    }
   ],
   "source": [
    "a=np.arange(1,21)\n",
    "a"
   ]
  },
  {
   "cell_type": "code",
   "execution_count": null,
   "id": "34064a5a",
   "metadata": {},
   "outputs": [
    {
     "name": "stdout",
     "output_type": "stream",
     "text": [
      "[1 2 3 4 5]\n"
     ]
    },
    {
     "data": {
      "text/plain": [
       "array([10, 20, 30, 40, 50])"
      ]
     },
     "execution_count": 14,
     "metadata": {},
     "output_type": "execute_result"
    }
   ],
   "source": [
    "slice=a[:5]\n",
    "print(slice)\n",
    "slice=slice*10 # we have changed the sclied elements \n",
    "slice"
   ]
  },
  {
   "cell_type": "code",
   "execution_count": 16,
   "id": "d4e11354",
   "metadata": {},
   "outputs": [
    {
     "data": {
      "text/plain": [
       "array([ 1,  2,  3,  4,  5,  6,  7,  8,  9, 10, 11, 12, 13, 14, 15, 16, 17,\n",
       "       18, 19, 20])"
      ]
     },
     "execution_count": 16,
     "metadata": {},
     "output_type": "execute_result"
    }
   ],
   "source": [
    "a    # here our main or original array elements are remain same . But this thing in list is impossible"
   ]
  },
  {
   "cell_type": "markdown",
   "id": "92a64780",
   "metadata": {},
   "source": [
    "## let's understand it in more detailed "
   ]
  },
  {
   "cell_type": "code",
   "execution_count": 20,
   "id": "5876aece",
   "metadata": {},
   "outputs": [],
   "source": [
    "a\n",
    "b=a\n"
   ]
  },
  {
   "cell_type": "code",
   "execution_count": 21,
   "id": "5869d62f",
   "metadata": {},
   "outputs": [],
   "source": [
    "b[0]=90"
   ]
  },
  {
   "cell_type": "code",
   "execution_count": 22,
   "id": "28700226",
   "metadata": {},
   "outputs": [
    {
     "data": {
      "text/plain": [
       "array([90,  2,  3,  4,  5,  6,  7,  8,  9, 10, 11, 12, 13, 14, 15, 16, 17,\n",
       "       18, 19, 20])"
      ]
     },
     "execution_count": 22,
     "metadata": {},
     "output_type": "execute_result"
    }
   ],
   "source": [
    "b"
   ]
  },
  {
   "cell_type": "code",
   "execution_count": 23,
   "id": "7db54c06",
   "metadata": {},
   "outputs": [
    {
     "data": {
      "text/plain": [
       "array([90,  2,  3,  4,  5,  6,  7,  8,  9, 10, 11, 12, 13, 14, 15, 16, 17,\n",
       "       18, 19, 20])"
      ]
     },
     "execution_count": 23,
     "metadata": {},
     "output_type": "execute_result"
    }
   ],
   "source": [
    "a"
   ]
  },
  {
   "cell_type": "markdown",
   "id": "bf71172d",
   "metadata": {},
   "source": [
    "from above we see that we asign a to b and now in b we change the first index element so b is changed as well as a also changed . This is called (Deep Copy).\n",
    "\n",
    "To prevent it we will use Shallow copy , it referes to another memory location of Ram.let's do the same with shallow copy"
   ]
  },
  {
   "cell_type": "code",
   "execution_count": 35,
   "id": "55061946",
   "metadata": {},
   "outputs": [
    {
     "data": {
      "text/plain": [
       "array([ 1,  2,  3,  4,  5,  6,  7,  8,  9, 10, 11, 12, 13, 14, 15, 16, 17,\n",
       "       18, 19, 20])"
      ]
     },
     "execution_count": 35,
     "metadata": {},
     "output_type": "execute_result"
    }
   ],
   "source": [
    "a=np.arange(1,21)\n",
    "a"
   ]
  },
  {
   "cell_type": "code",
   "execution_count": 36,
   "id": "b25e528f",
   "metadata": {},
   "outputs": [],
   "source": [
    "b=a.copy()"
   ]
  },
  {
   "cell_type": "code",
   "execution_count": 37,
   "id": "31d6d8a8",
   "metadata": {},
   "outputs": [
    {
     "data": {
      "text/plain": [
       "array([90,  2,  3,  4,  5,  6,  7,  8,  9, 10, 11, 12, 13, 14, 15, 16, 17,\n",
       "       18, 19, 20])"
      ]
     },
     "execution_count": 37,
     "metadata": {},
     "output_type": "execute_result"
    }
   ],
   "source": [
    "b[0]=90\n",
    "b\n"
   ]
  },
  {
   "cell_type": "code",
   "execution_count": 38,
   "id": "2a89fbf8",
   "metadata": {},
   "outputs": [
    {
     "data": {
      "text/plain": [
       "array([ 1,  2,  3,  4,  5,  6,  7,  8,  9, 10, 11, 12, 13, 14, 15, 16, 17,\n",
       "       18, 19, 20])"
      ]
     },
     "execution_count": 38,
     "metadata": {},
     "output_type": "execute_result"
    }
   ],
   "source": [
    "a"
   ]
  },
  {
   "cell_type": "markdown",
   "id": "c5989948",
   "metadata": {},
   "source": [
    "from the above we can see the elemnt at the first index is remain same in a."
   ]
  }
 ],
 "metadata": {
  "kernelspec": {
   "display_name": "venv",
   "language": "python",
   "name": "python3"
  },
  "language_info": {
   "codemirror_mode": {
    "name": "ipython",
    "version": 3
   },
   "file_extension": ".py",
   "mimetype": "text/x-python",
   "name": "python",
   "nbconvert_exporter": "python",
   "pygments_lexer": "ipython3",
   "version": "3.10.0"
  }
 },
 "nbformat": 4,
 "nbformat_minor": 5
}
