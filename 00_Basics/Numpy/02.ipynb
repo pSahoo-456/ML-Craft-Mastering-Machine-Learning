{
 "cells": [
  {
   "cell_type": "markdown",
   "id": "6cdaba6c",
   "metadata": {},
   "source": [
    "# Array Generation"
   ]
  },
  {
   "cell_type": "code",
   "execution_count": 4,
   "id": "f4e59b31",
   "metadata": {},
   "outputs": [
    {
     "data": {
      "text/plain": [
       "array([0, 1, 2, 3, 4, 5, 6, 7, 8, 9])"
      ]
     },
     "execution_count": 4,
     "metadata": {},
     "output_type": "execute_result"
    }
   ],
   "source": [
    "import numpy as np\n",
    "arr=np.arange(10)\n",
    "arr"
   ]
  },
  {
   "cell_type": "code",
   "execution_count": 9,
   "id": "5f2494fe",
   "metadata": {},
   "outputs": [
    {
     "name": "stdout",
     "output_type": "stream",
     "text": [
      "[0. 0.] \n",
      "\n",
      "[[0. 0. 0. 0.]\n",
      " [0. 0. 0. 0.]]\n"
     ]
    }
   ],
   "source": [
    "arr=np.zeros(2)# Create a 1D array of zeros\n",
    "print(arr,\"\\n\") \n",
    "arr=np.zeros((2,4)) #Create a 2D array of zeros\n",
    "print(arr)"
   ]
  },
  {
   "cell_type": "code",
   "execution_count": null,
   "id": "4204bf09",
   "metadata": {},
   "outputs": [
    {
     "name": "stdout",
     "output_type": "stream",
     "text": [
      "[1. 1. 1.] \n",
      "\n",
      "[[1. 1. 1. 1. 1. 1.]\n",
      " [1. 1. 1. 1. 1. 1.]\n",
      " [1. 1. 1. 1. 1. 1.]\n",
      " [1. 1. 1. 1. 1. 1.]\n",
      " [1. 1. 1. 1. 1. 1.]]\n"
     ]
    }
   ],
   "source": [
    "arr=np.ones(3) # create a 1d array of ones\n",
    "print(arr,\"\\n\")\n",
    "arr=np.ones((5,6)) # create a 2d array of ones\n",
    "print(arr)"
   ]
  },
  {
   "cell_type": "code",
   "execution_count": 15,
   "id": "139fb419",
   "metadata": {},
   "outputs": [
    {
     "name": "stdout",
     "output_type": "stream",
     "text": [
      "[ 0.   2.5  5.   7.5 10. ] \n",
      "\n",
      "[0.         0.01010101 0.02020202 0.03030303 0.04040404 0.05050505\n",
      " 0.06060606 0.07070707 0.08080808 0.09090909 0.1010101  0.11111111\n",
      " 0.12121212 0.13131313 0.14141414 0.15151515 0.16161616 0.17171717\n",
      " 0.18181818 0.19191919 0.2020202  0.21212121 0.22222222 0.23232323\n",
      " 0.24242424 0.25252525 0.26262626 0.27272727 0.28282828 0.29292929\n",
      " 0.3030303  0.31313131 0.32323232 0.33333333 0.34343434 0.35353535\n",
      " 0.36363636 0.37373737 0.38383838 0.39393939 0.4040404  0.41414141\n",
      " 0.42424242 0.43434343 0.44444444 0.45454545 0.46464646 0.47474747\n",
      " 0.48484848 0.49494949 0.50505051 0.51515152 0.52525253 0.53535354\n",
      " 0.54545455 0.55555556 0.56565657 0.57575758 0.58585859 0.5959596\n",
      " 0.60606061 0.61616162 0.62626263 0.63636364 0.64646465 0.65656566\n",
      " 0.66666667 0.67676768 0.68686869 0.6969697  0.70707071 0.71717172\n",
      " 0.72727273 0.73737374 0.74747475 0.75757576 0.76767677 0.77777778\n",
      " 0.78787879 0.7979798  0.80808081 0.81818182 0.82828283 0.83838384\n",
      " 0.84848485 0.85858586 0.86868687 0.87878788 0.88888889 0.8989899\n",
      " 0.90909091 0.91919192 0.92929293 0.93939394 0.94949495 0.95959596\n",
      " 0.96969697 0.97979798 0.98989899 1.        ]\n"
     ]
    }
   ],
   "source": [
    "arr=np.linspace(0,10,5) # Create an array with 5 evenly spaced values between 0 and 10\n",
    "print(arr,\"\\n\")\n",
    "arr=np.linspace(0,1,100) # Create an array with 100 evenly spaced values between 0 and 1\n",
    "print(arr)"
   ]
  },
  {
   "cell_type": "code",
   "execution_count": 18,
   "id": "863034dc",
   "metadata": {},
   "outputs": [
    {
     "name": "stdout",
     "output_type": "stream",
     "text": [
      "[[1. 0. 0.]\n",
      " [0. 1. 0.]\n",
      " [0. 0. 1.]]\n"
     ]
    }
   ],
   "source": [
    "arr=np.eye(3) # Create a 2D identity matrix of size 3x3\n",
    "print(arr)"
   ]
  },
  {
   "cell_type": "markdown",
   "id": "fd1e466b",
   "metadata": {},
   "source": [
    "# Random Generation Function "
   ]
  },
  {
   "cell_type": "code",
   "execution_count": 21,
   "id": "9b10db5e",
   "metadata": {},
   "outputs": [
    {
     "name": "stdout",
     "output_type": "stream",
     "text": [
      "[0.263595   0.88089249 0.27885475 0.65087683 0.61831145 0.87198554\n",
      " 0.71394532 0.86519342 0.41809609 0.24551352] \n",
      "\n",
      "[[0.51219072 0.10996596 0.007195  ]\n",
      " [0.75635906 0.44087135 0.13976349]]\n"
     ]
    }
   ],
   "source": [
    "arr=np.random.rand(10) # Create a 1D array of 10 random values\n",
    "print(arr,\"\\n\")\n",
    "arr=np.random.rand(2, 3) # Create a 2D array of random values\n",
    "print(arr)"
   ]
  },
  {
   "cell_type": "code",
   "execution_count": null,
   "id": "82b4f5c4",
   "metadata": {},
   "outputs": [
    {
     "name": "stdout",
     "output_type": "stream",
     "text": [
      "[ 0.49671415 -0.1382643   0.64768854  1.52302986 -0.23415337 -0.23413696\n",
      "  1.57921282  0.76743473 -0.46947439  0.54256004] \n",
      "\n",
      "4 \n",
      "\n",
      "[0 9 5 8 0] \n",
      "\n",
      "[[9 2 6]\n",
      " [3 8 2]] \n",
      "\n"
     ]
    }
   ],
   "source": [
    "arr=np.random.randn(10) # Create a 1D array of 10 random values from a standard normal distribution\n",
    "print(arr,\"\\n\")\n",
    "\n",
    "arr=np.random.randint(10) # it generate a random integer between 0 and 10\n",
    "print(arr,\"\\n\")\n",
    "\n",
    "arr=np.random.randint(0,10,5) # takes 3 argument low , high and the number of num you want to generate \n",
    "print(arr,\"\\n\")\n",
    "\n",
    "arr=np.random.randint(0, 10, size=(2, 3)) # Create a 2D array of random integers between 0 and 10\n",
    "print(arr,\"\\n\")\n"
   ]
  },
  {
   "cell_type": "code",
   "execution_count": 28,
   "id": "75542e2f",
   "metadata": {},
   "outputs": [
    {
     "name": "stdout",
     "output_type": "stream",
     "text": [
      "[[5 3 5]\n",
      " [1 2 4]] \n",
      "\n",
      "None \n",
      "\n"
     ]
    }
   ],
   "source": [
    "arr=np.random.choice([1, 2, 3, 4, 5], size=(2, 3)) # Create a 2D array of random choices from a given list\n",
    "print(arr,\"\\n\")\n",
    "\n",
    "arr=np.random.seed(42) # Set a random seed for reproducibility\n",
    "print(arr,\"\\n\")\n"
   ]
  },
  {
   "cell_type": "code",
   "execution_count": null,
   "id": "2768f5ac",
   "metadata": {},
   "outputs": [],
   "source": []
  }
 ],
 "metadata": {
  "kernelspec": {
   "display_name": "venv",
   "language": "python",
   "name": "python3"
  },
  "language_info": {
   "codemirror_mode": {
    "name": "ipython",
    "version": 3
   },
   "file_extension": ".py",
   "mimetype": "text/x-python",
   "name": "python",
   "nbconvert_exporter": "python",
   "pygments_lexer": "ipython3",
   "version": "3.10.0"
  }
 },
 "nbformat": 4,
 "nbformat_minor": 5
}
