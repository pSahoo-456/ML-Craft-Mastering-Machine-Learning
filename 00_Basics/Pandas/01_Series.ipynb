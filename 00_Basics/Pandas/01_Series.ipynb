{
 "cells": [
  {
   "cell_type": "markdown",
   "id": "21b7629a",
   "metadata": {},
   "source": [
    "# Series\n",
    "### A series is a one-dimensional labeled array capable of holding any data type . The axis labels are collectively called the index."
   ]
  },
  {
   "cell_type": "markdown",
   "id": "6c8c0e6b",
   "metadata": {},
   "source": [
    "## Creating Series\n",
    "#### There are multiple ways to create a pandas series"
   ]
  },
  {
   "cell_type": "code",
   "execution_count": 1,
   "id": "65be233a",
   "metadata": {},
   "outputs": [],
   "source": [
    "import numpy as np\n",
    "import pandas as pd"
   ]
  },
  {
   "cell_type": "code",
   "execution_count": 2,
   "id": "99ebcc68",
   "metadata": {},
   "outputs": [],
   "source": [
    "labels=['a','b','c','d']\n",
    "my_list=[10,20,30,40]\n",
    "arr=np.array(my_list)\n",
    "d={1:'a',2:'b',3:'c',4:'d'}\n"
   ]
  },
  {
   "cell_type": "code",
   "execution_count": 3,
   "id": "ce5eb693",
   "metadata": {},
   "outputs": [
    {
     "data": {
      "text/plain": [
       "0    10\n",
       "1    20\n",
       "2    30\n",
       "3    40\n",
       "dtype: int64"
      ]
     },
     "execution_count": 3,
     "metadata": {},
     "output_type": "execute_result"
    }
   ],
   "source": [
    "# Create a pandas Series using the above data\n",
    "pd.Series(my_list)"
   ]
  },
  {
   "cell_type": "code",
   "execution_count": 4,
   "id": "a0ba3ea8",
   "metadata": {},
   "outputs": [
    {
     "data": {
      "text/plain": [
       "a    10\n",
       "b    20\n",
       "c    30\n",
       "d    40\n",
       "dtype: int64"
      ]
     },
     "execution_count": 4,
     "metadata": {},
     "output_type": "execute_result"
    }
   ],
   "source": [
    "#we can set custom index labels\n",
    "pd.Series(my_list,index=labels)"
   ]
  },
  {
   "cell_type": "code",
   "execution_count": 5,
   "id": "6ec83723",
   "metadata": {},
   "outputs": [
    {
     "data": {
      "text/plain": [
       "0    10\n",
       "1    20\n",
       "2    30\n",
       "3    40\n",
       "dtype: int64"
      ]
     },
     "execution_count": 5,
     "metadata": {},
     "output_type": "execute_result"
    }
   ],
   "source": [
    "pd.Series(arr)"
   ]
  },
  {
   "cell_type": "code",
   "execution_count": 6,
   "id": "2fc625d6",
   "metadata": {},
   "outputs": [
    {
     "data": {
      "text/plain": [
       "1    a\n",
       "2    b\n",
       "3    c\n",
       "4    d\n",
       "dtype: object"
      ]
     },
     "execution_count": 6,
     "metadata": {},
     "output_type": "execute_result"
    }
   ],
   "source": [
    "pd.Series(d)"
   ]
  },
  {
   "cell_type": "markdown",
   "id": "1de8c8ef",
   "metadata": {},
   "source": [
    "### we can create a Series by a list, array, dictionary (One dimension)"
   ]
  },
  {
   "cell_type": "code",
   "execution_count": null,
   "id": "220c6296",
   "metadata": {},
   "outputs": [],
   "source": []
  }
 ],
 "metadata": {
  "kernelspec": {
   "display_name": "venv",
   "language": "python",
   "name": "python3"
  },
  "language_info": {
   "codemirror_mode": {
    "name": "ipython",
    "version": 3
   },
   "file_extension": ".py",
   "mimetype": "text/x-python",
   "name": "python",
   "nbconvert_exporter": "python",
   "pygments_lexer": "ipython3",
   "version": "3.10.0"
  }
 },
 "nbformat": 4,
 "nbformat_minor": 5
}
